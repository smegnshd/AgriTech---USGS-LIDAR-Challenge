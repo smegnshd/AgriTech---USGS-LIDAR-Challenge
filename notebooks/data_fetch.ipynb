{
 "cells": [
  {
   "cell_type": "code",
   "execution_count": 10,
   "id": "6a92e568",
   "metadata": {},
   "outputs": [],
   "source": [
    "import pdal\n",
    "\n",
    "from shapely.geometry import Point\n",
    "import pandas as pd\n",
    "import matplotlib.pyplot as plt\n",
    "import folium\n",
    "import rasterio as rio"
   ]
  },
  {
   "cell_type": "code",
   "execution_count": 17,
   "id": "171dd760",
   "metadata": {},
   "outputs": [],
   "source": [
    "#import mapclassify as mc\n",
    "import numpy as np\n",
    "import laspy\n",
    "from rasterio import mask"
   ]
  },
  {
   "cell_type": "code",
   "execution_count": 19,
   "id": "dfa5899a",
   "metadata": {},
   "outputs": [],
   "source": [
    "import imageio\n",
    "import pathlib\n",
    "#import mapclassify as mc\n",
    "from rasterio.plot import plotting_extent\n",
    "import geopandas as gpd\n",
    "import earthpy as et\n",
    "import earthpy.spatial as es\n",
    "import earthpy.plot as ep\n",
    "import os\n",
    "import glob\n",
    "import sys"
   ]
  },
  {
   "cell_type": "code",
   "execution_count": 20,
   "id": "3d96d377",
   "metadata": {},
   "outputs": [],
   "source": [
    "sys.path.append(os.path.abspath(os.path.join('..')))\n",
    "C:\\Users\\Smegn\\Documents\\GitHub\\AgriTech---USGS-LIDAR-Challenge\\notebooks"
   ]
  },
  {
   "cell_type": "code",
   "execution_count": 23,
   "id": "83e6e927",
   "metadata": {},
   "outputs": [
    {
     "ename": "UnidentifiedImageError",
     "evalue": "cannot identify image file 'iowa.tif'",
     "output_type": "error",
     "traceback": [
      "\u001b[1;31m---------------------------------------------------------------------------\u001b[0m",
      "\u001b[1;31mUnidentifiedImageError\u001b[0m                    Traceback (most recent call last)",
      "\u001b[1;32m<ipython-input-23-ffa403702dfd>\u001b[0m in \u001b[0;36m<module>\u001b[1;34m\u001b[0m\n\u001b[0;32m      1\u001b[0m \u001b[1;32mfrom\u001b[0m \u001b[0mPIL\u001b[0m \u001b[1;32mimport\u001b[0m \u001b[0mImage\u001b[0m\u001b[1;33m\u001b[0m\u001b[1;33m\u001b[0m\u001b[0m\n\u001b[1;32m----> 2\u001b[1;33m \u001b[0mim\u001b[0m \u001b[1;33m=\u001b[0m \u001b[0mImage\u001b[0m\u001b[1;33m.\u001b[0m\u001b[0mopen\u001b[0m\u001b[1;33m(\u001b[0m\u001b[1;34m'iowa.tif'\u001b[0m\u001b[1;33m)\u001b[0m\u001b[1;33m\u001b[0m\u001b[1;33m\u001b[0m\u001b[0m\n\u001b[0m",
      "\u001b[1;32m~\\anaconda3\\anconda2\\lib\\site-packages\\PIL\\Image.py\u001b[0m in \u001b[0;36mopen\u001b[1;34m(fp, mode, formats)\u001b[0m\n\u001b[0;32m   3021\u001b[0m     \u001b[1;32mfor\u001b[0m \u001b[0mmessage\u001b[0m \u001b[1;32min\u001b[0m \u001b[0maccept_warnings\u001b[0m\u001b[1;33m:\u001b[0m\u001b[1;33m\u001b[0m\u001b[1;33m\u001b[0m\u001b[0m\n\u001b[0;32m   3022\u001b[0m         \u001b[0mwarnings\u001b[0m\u001b[1;33m.\u001b[0m\u001b[0mwarn\u001b[0m\u001b[1;33m(\u001b[0m\u001b[0mmessage\u001b[0m\u001b[1;33m)\u001b[0m\u001b[1;33m\u001b[0m\u001b[1;33m\u001b[0m\u001b[0m\n\u001b[1;32m-> 3023\u001b[1;33m     raise UnidentifiedImageError(\n\u001b[0m\u001b[0;32m   3024\u001b[0m         \u001b[1;34m\"cannot identify image file %r\"\u001b[0m \u001b[1;33m%\u001b[0m \u001b[1;33m(\u001b[0m\u001b[0mfilename\u001b[0m \u001b[1;32mif\u001b[0m \u001b[0mfilename\u001b[0m \u001b[1;32melse\u001b[0m \u001b[0mfp\u001b[0m\u001b[1;33m)\u001b[0m\u001b[1;33m\u001b[0m\u001b[1;33m\u001b[0m\u001b[0m\n\u001b[0;32m   3025\u001b[0m     )\n",
      "\u001b[1;31mUnidentifiedImageError\u001b[0m: cannot identify image file 'iowa.tif'"
     ]
    }
   ],
   "source": [
    "from PIL import Image\n",
    "im = Image.open('iowa.tif')"
   ]
  },
  {
   "cell_type": "code",
   "execution_count": 22,
   "id": "c962e299",
   "metadata": {},
   "outputs": [
    {
     "ename": "TypeError",
     "evalue": "'module' object is not callable",
     "output_type": "error",
     "traceback": [
      "\u001b[1;31m---------------------------------------------------------------------------\u001b[0m",
      "\u001b[1;31mTypeError\u001b[0m                                 Traceback (most recent call last)",
      "\u001b[1;32m<ipython-input-22-340e54d4933a>\u001b[0m in \u001b[0;36m<module>\u001b[1;34m\u001b[0m\n\u001b[0;32m      2\u001b[0m \u001b[1;33m\u001b[0m\u001b[0m\n\u001b[0;32m      3\u001b[0m \u001b[0mlandsat_bands_data_path\u001b[0m \u001b[1;33m=\u001b[0m \u001b[1;34m\"tiff/.tif\"\u001b[0m\u001b[1;33m\u001b[0m\u001b[1;33m\u001b[0m\u001b[0m\n\u001b[1;32m----> 4\u001b[1;33m \u001b[0mstack_band_paths\u001b[0m \u001b[1;33m=\u001b[0m \u001b[0mglob\u001b[0m\u001b[1;33m(\u001b[0m\u001b[0mlandsat_bands_data_path\u001b[0m\u001b[1;33m)\u001b[0m\u001b[1;33m\u001b[0m\u001b[1;33m\u001b[0m\u001b[0m\n\u001b[0m",
      "\u001b[1;31mTypeError\u001b[0m: 'module' object is not callable"
     ]
    }
   ],
   "source": [
    "# Prepare the landsat bands to be stacked using glob and sort\n",
    "\n",
    "landsat_bands_data_path = \"tiff/.tif\"\n",
    "stack_band_paths = glob(landsat_bands_data_path)"
   ]
  },
  {
   "cell_type": "code",
   "execution_count": null,
   "id": "c1755426",
   "metadata": {},
   "outputs": [],
   "source": [
    "soap_chm_path = 'data/spatial-vector-lidar/california/neon-soap-site/2013/lidar/SOAP_lidarCHM.tif'\n",
    "# open the lidar chm\n",
    "with rio.open(soap_chm_path) as src:\n",
    "    lidar_chm_im = src.read(masked=True)[0]\n",
    "    extent = rio.plot.plotting_extent(src)\n",
    "    soap_profile = src.profile\n",
    "\n",
    "ep.plot_bands(lidar_chm_im,\n",
    "               cmap='terrain',\n",
    "               extent=extent,\n",
    "               title=\"Lidar Canopy Height Model (CHM)\\n NEON SOAP Field Site\",\n",
    "               cbar=False);"
   ]
  },
  {
   "cell_type": "code",
   "execution_count": null,
   "id": "51f385e0",
   "metadata": {},
   "outputs": [],
   "source": []
  },
  {
   "cell_type": "code",
   "execution_count": null,
   "id": "c29bd7e7",
   "metadata": {},
   "outputs": [],
   "source": []
  },
  {
   "cell_type": "code",
   "execution_count": null,
   "id": "a20efbe4",
   "metadata": {},
   "outputs": [],
   "source": []
  },
  {
   "cell_type": "code",
   "execution_count": null,
   "id": "e7a34d2d",
   "metadata": {},
   "outputs": [],
   "source": []
  },
  {
   "cell_type": "code",
   "execution_count": null,
   "id": "27bafdd2",
   "metadata": {},
   "outputs": [],
   "source": [
    "## Plot raster/tif image\n",
    "# --------------------\n",
    "def plot_raster(rast_data, title=''):\n",
    "    \"\"\"\n",
    "    Plots raster tif image both in log scale(+1) and original verion\n",
    "    \"\"\"\n",
    "    fig, (axlog, axorg) = plt.subplots(1, 2, figsize=(14,7))\n",
    "    im1 = axlog.imshow(np.log1p(rast_data)) # vmin=0, vmax=2.1)\n",
    "#     im2 = axorg.imshow(rast_data)\n",
    "\n",
    "    plt.title(\"{}\".format(title), fontdict = {'fontsize': 15})  \n",
    "    plt.axis('off')\n",
    "    plt.colorbar(im1, fraction=0.03)\n",
    "\n"
   ]
  },
  {
   "cell_type": "code",
   "execution_count": null,
   "id": "a9d1a5b9",
   "metadata": {
    "scrolled": true
   },
   "outputs": [],
   "source": []
  },
  {
   "cell_type": "code",
   "execution_count": null,
   "id": "37b18e13",
   "metadata": {},
   "outputs": [],
   "source": [
    "# Prepare the landsat bands to be stacked using glob and sort\n",
    "\n",
    "landsat_bands_data_path = \"tif/.tif\"\n",
    "stack_band_paths = glob(landsat_bands_data_path)"
   ]
  },
  {
   "cell_type": "code",
   "execution_count": null,
   "id": "0feda769",
   "metadata": {},
   "outputs": [],
   "source": [
    "stack_band_paths\n"
   ]
  },
  {
   "cell_type": "code",
   "execution_count": null,
   "id": "c37d259f",
   "metadata": {},
   "outputs": [],
   "source": []
  },
  {
   "cell_type": "code",
   "execution_count": null,
   "id": "c0ffa124",
   "metadata": {},
   "outputs": [],
   "source": [
    "pdal pipeline iowa.json"
   ]
  },
  {
   "cell_type": "code",
   "execution_count": null,
   "id": "fd4e0556",
   "metadata": {},
   "outputs": [],
   "source": [
    "# Get sample data from EarthPy and setting your home working directory\n",
    "\n",
    "data_path = et.data.get_data(\"vignette-landsat\")\n",
    "os.chdir(os.path.join(et.io.HOME, \"earth-analytics\"))\n",
    "\n",
    "# Prepare the landsat bands to be stacked using glob and sort\n",
    "\n",
    "landsat_bands_data_path = \"data/vignette-landsat/LC08_L1TP_034032_20160621_20170221_01_T1_sr_band*[2-4]*_crop.tif\"\n",
    "stack_band_paths = glob(landsat_bands_data_path)\n",
    "stack_band_paths.sort()\n",
    "\n",
    "# Create output directory and the output path\n",
    "\n",
    "output_dir = os.path.join(\"data\", \"outputs\")\n",
    "if os.path.isdir(output_dir) == False:\n",
    "    os.mkdir(output_dir)\n",
    "\n",
    "raster_out_path = os.path.join(output_dir, \"raster.tiff\")"
   ]
  },
  {
   "cell_type": "code",
   "execution_count": null,
   "id": "fb2bc877",
   "metadata": {},
   "outputs": [],
   "source": [
    "stack_band_paths"
   ]
  },
  {
   "cell_type": "code",
   "execution_count": null,
   "id": "b35e89a5",
   "metadata": {},
   "outputs": [],
   "source": [
    "import earthpy.spatial as es\n",
    "import earthpy.plot as ep"
   ]
  },
  {
   "cell_type": "code",
   "execution_count": null,
   "id": "0e5fbe3b",
   "metadata": {},
   "outputs": [],
   "source": [
    "# Stack Landsat bands\n",
    "\n",
    "os.chdir(os.path.join(et.io.HOME, \"earth-analytics\"))\n",
    "array, raster_prof = es.stack(stack_band_paths, out_path=raster_out_path)"
   ]
  },
  {
   "cell_type": "code",
   "execution_count": null,
   "id": "5776a7d2",
   "metadata": {},
   "outputs": [],
   "source": [
    "extent = plotting_extent(array[0], raster_prof[\"transform\"])"
   ]
  },
  {
   "cell_type": "code",
   "execution_count": null,
   "id": "3a44e2b6",
   "metadata": {},
   "outputs": [],
   "source": [
    "fig, ax = plt.subplots(figsize=(12, 12))\n",
    "ep.plot_rgb(\n",
    "    array,\n",
    "    ax=ax,\n",
    "    stretch=True,\n",
    "    extent=extent,\n",
    "    str_clip=0.5,\n",
    "    title=\"RGB Image of Un-cropped Raster\",\n",
    ")\n",
    "plt.show()"
   ]
  },
  {
   "cell_type": "code",
   "execution_count": null,
   "id": "6e75ca99",
   "metadata": {},
   "outputs": [],
   "source": [
    "ep.hist(array, title=[\"Band 1\", \"Band 2\", \"Band 3\"])\n",
    "plt.show()"
   ]
  },
  {
   "cell_type": "code",
   "execution_count": null,
   "id": "1d165a87",
   "metadata": {},
   "outputs": [],
   "source": [
    "# Open Landsat image as a Rasterio object in order to crop it\n",
    "os.chdir(os.path.join(et.io.HOME, \"earth-analytics\"))\n",
    "\n",
    "with rio.open(stack_band_paths[0]) as src:\n",
    "    single_cropped_image, single_cropped_meta = es.crop_image(\n",
    "        src, crop_bound_utm13N\n",
    "    )\n",
    "\n",
    "# Create the extent object\n",
    "single_crop_extent = plotting_extent(\n",
    "single_cropped_image[0], single_cropped_meta[\"transform\"]\n",
    ")\n",
    "\n",
    "# Plot the newly cropped image\n",
    "fig, ax = plt.subplots(figsize=(12, 6))\n",
    "crop_bound_utm13N.boundary.plot(ax=ax, color=\"red\", zorder=10)\n",
    "ep.plot_bands(\n",
    "    single_cropped_image,\n",
    "    ax=ax,\n",
    "    extent=single_crop_extent,\n",
    "    title=\"Single Cropped Raster and Fire Boundary\",\n",
    ")\n",
    "plt.show()"
   ]
  },
  {
   "cell_type": "code",
   "execution_count": null,
   "id": "0f03a615",
   "metadata": {},
   "outputs": [],
   "source": [
    "src = rasterio.open(\"tif/SoPlatteRiver.tif\")\n",
    "plt.figure(figsize=(10, 6))\n",
    "plt.imshow(src.read(1), cmap='pink')\n",
    "plt.show()"
   ]
  },
  {
   "cell_type": "code",
   "execution_count": null,
   "id": "6a7986cd",
   "metadata": {},
   "outputs": [],
   "source": [
    "shps = glob('shp/gadm36_USA_shp/*.shp')\n",
    "shps.sort()\n",
    "shapefiles = []\n",
    "for i in shps:\n",
    "    usa_gdf = (gpd.GeoDataFrame.from_file(i))"
   ]
  },
  {
   "cell_type": "code",
   "execution_count": null,
   "id": "7caa00be",
   "metadata": {},
   "outputs": [],
   "source": [
    "usa_gdf.shape"
   ]
  },
  {
   "cell_type": "code",
   "execution_count": null,
   "id": "5c7ac523",
   "metadata": {},
   "outputs": [],
   "source": [
    "m = folium.Map(location=[40.70, -73.94], zoom_start=10, tiles='CartoDB positron')\n",
    "m"
   ]
  },
  {
   "cell_type": "code",
   "execution_count": null,
   "id": "3e46f973",
   "metadata": {},
   "outputs": [],
   "source": [
    "world = geopandas.read_file(geopandas.datasets.get_path('naturalearth_lowres'))\n",
    "world"
   ]
  },
  {
   "cell_type": "code",
   "execution_count": null,
   "id": "e51b4e6f",
   "metadata": {},
   "outputs": [],
   "source": [
    "fig, ax = plt.subplots(figsize=(24,18))\n",
    "world.plot(ax=ax, alpha=0.4, color='grey')"
   ]
  },
  {
   "cell_type": "code",
   "execution_count": null,
   "id": "2e9f1d6f",
   "metadata": {},
   "outputs": [],
   "source": [
    "url = \"https://s3.amazonaws.com/amazon-reviews-pds/filename \"\n"
   ]
  },
  {
   "cell_type": "code",
   "execution_count": null,
   "id": "fdda8841",
   "metadata": {
    "scrolled": true
   },
   "outputs": [],
   "source": [
    "df = geopandas.read_file(url)"
   ]
  },
  {
   "cell_type": "code",
   "execution_count": null,
   "id": "59a773f1",
   "metadata": {},
   "outputs": [],
   "source": [
    "# Import packages\n",
    "import os\n",
    "import matplotlib.pyplot as plt\n",
    "import geopandas as gpd\n",
    "import earthpy.plot as et\n",
    "\n",
    "# Get data and set working directory\n",
    "data = et.data.get_data('spatial-vector-lidar')\n",
    "os.chdir(os.path.join(et.io.HOME, 'earth-analytics'))"
   ]
  },
  {
   "cell_type": "code",
   "execution_count": null,
   "id": "513abadd",
   "metadata": {},
   "outputs": [],
   "source": [
    "import sys\n",
    "print(sys.executable)"
   ]
  },
  {
   "cell_type": "code",
   "execution_count": null,
   "id": "5337acc9",
   "metadata": {},
   "outputs": [],
   "source": [
    "# get shp from tif\n",
    "from glob import glob\n",
    "def get_shp_from_tif(tif_path:str, shp_file_path:str) -> None:\n",
    "    raster = rasterio.open(tif_path)\n",
    "    bounds = raster.bounds\n",
    "\n",
    "    df = gpd.GeoDataFrame({\"id\":1,\"geometry\":[box(*bounds)]})\n",
    "   \n",
    "    # save to file\n",
    "    df.to_file(shp_file_path)\n",
    "    print('Saved..')"
   ]
  },
  {
   "cell_type": "code",
   "execution_count": null,
   "id": "81b828ac",
   "metadata": {},
   "outputs": [],
   "source": [
    "from shapely.geometry import box\n",
    "get_shp_from_tif('tif/iowa2.tif', shp_file_path='shp/combi.shp')"
   ]
  },
  {
   "cell_type": "code",
   "execution_count": null,
   "id": "e60452c3",
   "metadata": {},
   "outputs": [],
   "source": []
  }
 ],
 "metadata": {
  "kernelspec": {
   "display_name": "Python 3",
   "language": "python",
   "name": "python3"
  },
  "language_info": {
   "codemirror_mode": {
    "name": "ipython",
    "version": 3
   },
   "file_extension": ".py",
   "mimetype": "text/x-python",
   "name": "python",
   "nbconvert_exporter": "python",
   "pygments_lexer": "ipython3",
   "version": "3.8.11"
  }
 },
 "nbformat": 4,
 "nbformat_minor": 5
}
